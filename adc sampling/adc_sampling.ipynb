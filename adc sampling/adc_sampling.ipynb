{
 "cells": [
  {
   "cell_type": "markdown",
   "metadata": {},
   "source": [
    "# ADC Sampling\n",
    "\n",
    "For high dutycycles we have a short window to measure the current (trigger the ADC-sample).\n",
    "\n",
    "I will use a switching frequency of $10 kHz$ assuming we are running the motor at 90% duty we get a *low-side-window* (LSW) of \n",
    "\n",
    "$$\n",
    "t_{LSW} = \\dfrac{1}{10^4} 0.1 = 10 \\cdot 1e6 s = 10 \\mu s\n",
    "$$\n",
    "\n",
    "The manual specifies a conversion time of $17 \\mu s$ if there were no analog circity we would be able to sample 5 times in that window.\n",
    "\n"
   ]
  },
  {
   "cell_type": "markdown",
   "metadata": {},
   "source": [
    "## Internal RC-filter\n",
    "\n",
    "The ADC Circut can be modeled as an internal RC-filter with \n",
    "\n",
    "$R_{ADC} = 6 K \\Omega $\n",
    "\n",
    "$C_{ADC} = 4 pF$\n",
    "\n",
    "$$\n",
    "G_{ADC}(s) = \\dfrac{1}{RC\\,s + 1}\n",
    "$$\n",
    "\n",
    "This should result in a *rise-time* of \n",
    "$$\n",
    "t_{ADC} = RC = 4 \\cdot 10^{-12} \\cdot 6 \\cdot 10 ^3 = 24 \\cdot 10^{-9}s = 0.024 \\mu s\n",
    "$$"
   ]
  },
  {
   "cell_type": "markdown",
   "metadata": {},
   "source": [
    "# ADC Clock\n",
    "**APB2** 1/2 -> **ADCCLK**\n",
    "\n",
    "Ref manual specifies that it requires at minimum 15 `ADCCLK` cycles.\n"
   ]
  },
  {
   "cell_type": "code",
   "execution_count": 2,
   "metadata": {},
   "outputs": [
    {
     "data": {
      "text/plain": [
       "2.8571428571428573e-06"
      ]
     },
     "execution_count": 2,
     "metadata": {},
     "output_type": "execute_result"
    }
   ],
   "source": [
    "f_adc = 21 *1e6 * 1/4\n",
    "\n",
    "t_adc = 1/f_adc\n",
    "\n",
    "15*t_adc"
   ]
  },
  {
   "cell_type": "code",
   "execution_count": null,
   "metadata": {},
   "outputs": [],
   "source": []
  }
 ],
 "metadata": {
  "kernelspec": {
   "display_name": "Python 3.10.4 64-bit",
   "language": "python",
   "name": "python3"
  },
  "language_info": {
   "codemirror_mode": {
    "name": "ipython",
    "version": 3
   },
   "file_extension": ".py",
   "mimetype": "text/x-python",
   "name": "python",
   "nbconvert_exporter": "python",
   "pygments_lexer": "ipython3",
   "version": "3.10.4"
  },
  "vscode": {
   "interpreter": {
    "hash": "6d9e0bcf621574d6c73d5a16c964e67365a8a1c126451fb5de37be47a707dab2"
   }
  }
 },
 "nbformat": 4,
 "nbformat_minor": 2
}
