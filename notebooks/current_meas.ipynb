{
 "cells": [
  {
   "cell_type": "code",
   "execution_count": 1,
   "id": "bf40ffd9",
   "metadata": {},
   "outputs": [],
   "source": [
    "import matplotlib.pyplot as plt\n",
    "import pandas as pd\n",
    "import numpy as np\n",
    "import os"
   ]
  },
  {
   "cell_type": "code",
   "execution_count": 2,
   "id": "08341c6f",
   "metadata": {},
   "outputs": [],
   "source": [
    "def find_latest_log():\n",
    "    folder = '../logger/logs'\n",
    "    logs = os.listdir(folder)\n",
    "    return folder + os.sep + logs[-1]\n"
   ]
  },
  {
   "cell_type": "code",
   "execution_count": 3,
   "id": "4815b65e",
   "metadata": {
    "scrolled": true
   },
   "outputs": [
    {
     "name": "stdout",
     "output_type": "stream",
     "text": [
      "../logger/logs\\loggs_230224_2217.csv\n"
     ]
    },
    {
     "data": {
      "text/html": [
       "<div>\n",
       "<style scoped>\n",
       "    .dataframe tbody tr th:only-of-type {\n",
       "        vertical-align: middle;\n",
       "    }\n",
       "\n",
       "    .dataframe tbody tr th {\n",
       "        vertical-align: top;\n",
       "    }\n",
       "\n",
       "    .dataframe thead th {\n",
       "        text-align: right;\n",
       "    }\n",
       "</style>\n",
       "<table border=\"1\" class=\"dataframe\">\n",
       "  <thead>\n",
       "    <tr style=\"text-align: right;\">\n",
       "      <th></th>\n",
       "      <th>time_ms</th>\n",
       "      <th>signal_0</th>\n",
       "      <th>signal_1</th>\n",
       "      <th>signal_2</th>\n",
       "      <th>signal_3</th>\n",
       "      <th>signal_4</th>\n",
       "      <th>signal_5</th>\n",
       "      <th>signal_6</th>\n",
       "      <th>signal_7</th>\n",
       "      <th>signal_8</th>\n",
       "      <th>signal_9</th>\n",
       "      <th>signal_10</th>\n",
       "      <th>signal_11</th>\n",
       "      <th>signal_12</th>\n",
       "      <th>signal_13</th>\n",
       "      <th>signal_14</th>\n",
       "      <th>signal_15</th>\n",
       "      <th>signal_16</th>\n",
       "      <th>signal_17</th>\n",
       "      <th>signal_18</th>\n",
       "    </tr>\n",
       "  </thead>\n",
       "  <tbody>\n",
       "    <tr>\n",
       "      <th>0</th>\n",
       "      <td>1165664256</td>\n",
       "      <td>0.0</td>\n",
       "      <td>-30.0</td>\n",
       "      <td>0.666667</td>\n",
       "      <td>0.666667</td>\n",
       "      <td>0.666667</td>\n",
       "      <td>916.0</td>\n",
       "      <td>1010.0</td>\n",
       "      <td>999.0</td>\n",
       "      <td>0.0</td>\n",
       "      <td>0.0</td>\n",
       "      <td>0.0</td>\n",
       "      <td>0.0</td>\n",
       "      <td>0.0</td>\n",
       "      <td>0.0</td>\n",
       "      <td>0.0</td>\n",
       "      <td>0.0</td>\n",
       "      <td>0.0</td>\n",
       "      <td>0.0</td>\n",
       "      <td>0.0</td>\n",
       "    </tr>\n",
       "    <tr>\n",
       "      <th>1</th>\n",
       "      <td>1165668352</td>\n",
       "      <td>0.0</td>\n",
       "      <td>-30.0</td>\n",
       "      <td>0.666667</td>\n",
       "      <td>0.666667</td>\n",
       "      <td>0.666667</td>\n",
       "      <td>902.0</td>\n",
       "      <td>1013.0</td>\n",
       "      <td>1047.0</td>\n",
       "      <td>0.0</td>\n",
       "      <td>0.0</td>\n",
       "      <td>0.0</td>\n",
       "      <td>0.0</td>\n",
       "      <td>0.0</td>\n",
       "      <td>0.0</td>\n",
       "      <td>0.0</td>\n",
       "      <td>0.0</td>\n",
       "      <td>0.0</td>\n",
       "      <td>0.0</td>\n",
       "      <td>0.0</td>\n",
       "    </tr>\n",
       "    <tr>\n",
       "      <th>2</th>\n",
       "      <td>1165672448</td>\n",
       "      <td>0.0</td>\n",
       "      <td>-30.0</td>\n",
       "      <td>0.666667</td>\n",
       "      <td>0.666667</td>\n",
       "      <td>0.666667</td>\n",
       "      <td>891.0</td>\n",
       "      <td>995.0</td>\n",
       "      <td>997.0</td>\n",
       "      <td>0.0</td>\n",
       "      <td>0.0</td>\n",
       "      <td>0.0</td>\n",
       "      <td>0.0</td>\n",
       "      <td>0.0</td>\n",
       "      <td>0.0</td>\n",
       "      <td>0.0</td>\n",
       "      <td>0.0</td>\n",
       "      <td>0.0</td>\n",
       "      <td>0.0</td>\n",
       "      <td>0.0</td>\n",
       "    </tr>\n",
       "    <tr>\n",
       "      <th>3</th>\n",
       "      <td>1165676544</td>\n",
       "      <td>0.0</td>\n",
       "      <td>-30.0</td>\n",
       "      <td>0.666667</td>\n",
       "      <td>0.666667</td>\n",
       "      <td>0.666667</td>\n",
       "      <td>912.0</td>\n",
       "      <td>1012.0</td>\n",
       "      <td>1048.0</td>\n",
       "      <td>0.0</td>\n",
       "      <td>0.0</td>\n",
       "      <td>0.0</td>\n",
       "      <td>0.0</td>\n",
       "      <td>0.0</td>\n",
       "      <td>0.0</td>\n",
       "      <td>0.0</td>\n",
       "      <td>0.0</td>\n",
       "      <td>0.0</td>\n",
       "      <td>0.0</td>\n",
       "      <td>0.0</td>\n",
       "    </tr>\n",
       "    <tr>\n",
       "      <th>4</th>\n",
       "      <td>1165680640</td>\n",
       "      <td>0.0</td>\n",
       "      <td>-30.0</td>\n",
       "      <td>0.666667</td>\n",
       "      <td>0.666667</td>\n",
       "      <td>0.666667</td>\n",
       "      <td>890.0</td>\n",
       "      <td>1029.0</td>\n",
       "      <td>985.0</td>\n",
       "      <td>0.0</td>\n",
       "      <td>0.0</td>\n",
       "      <td>0.0</td>\n",
       "      <td>0.0</td>\n",
       "      <td>0.0</td>\n",
       "      <td>0.0</td>\n",
       "      <td>0.0</td>\n",
       "      <td>0.0</td>\n",
       "      <td>0.0</td>\n",
       "      <td>0.0</td>\n",
       "      <td>0.0</td>\n",
       "    </tr>\n",
       "    <tr>\n",
       "      <th>...</th>\n",
       "      <td>...</td>\n",
       "      <td>...</td>\n",
       "      <td>...</td>\n",
       "      <td>...</td>\n",
       "      <td>...</td>\n",
       "      <td>...</td>\n",
       "      <td>...</td>\n",
       "      <td>...</td>\n",
       "      <td>...</td>\n",
       "      <td>...</td>\n",
       "      <td>...</td>\n",
       "      <td>...</td>\n",
       "      <td>...</td>\n",
       "      <td>...</td>\n",
       "      <td>...</td>\n",
       "      <td>...</td>\n",
       "      <td>...</td>\n",
       "      <td>...</td>\n",
       "      <td>...</td>\n",
       "      <td>...</td>\n",
       "    </tr>\n",
       "    <tr>\n",
       "      <th>1388</th>\n",
       "      <td>1181341696</td>\n",
       "      <td>0.0</td>\n",
       "      <td>-30.0</td>\n",
       "      <td>0.666667</td>\n",
       "      <td>0.666667</td>\n",
       "      <td>0.666667</td>\n",
       "      <td>895.0</td>\n",
       "      <td>998.0</td>\n",
       "      <td>1024.0</td>\n",
       "      <td>0.0</td>\n",
       "      <td>0.0</td>\n",
       "      <td>0.0</td>\n",
       "      <td>0.0</td>\n",
       "      <td>0.0</td>\n",
       "      <td>0.0</td>\n",
       "      <td>0.0</td>\n",
       "      <td>0.0</td>\n",
       "      <td>0.0</td>\n",
       "      <td>0.0</td>\n",
       "      <td>0.0</td>\n",
       "    </tr>\n",
       "    <tr>\n",
       "      <th>1389</th>\n",
       "      <td>1181342720</td>\n",
       "      <td>0.0</td>\n",
       "      <td>-30.0</td>\n",
       "      <td>0.666667</td>\n",
       "      <td>0.666667</td>\n",
       "      <td>0.666667</td>\n",
       "      <td>904.0</td>\n",
       "      <td>992.0</td>\n",
       "      <td>1025.0</td>\n",
       "      <td>0.0</td>\n",
       "      <td>0.0</td>\n",
       "      <td>0.0</td>\n",
       "      <td>0.0</td>\n",
       "      <td>0.0</td>\n",
       "      <td>0.0</td>\n",
       "      <td>0.0</td>\n",
       "      <td>0.0</td>\n",
       "      <td>0.0</td>\n",
       "      <td>0.0</td>\n",
       "      <td>0.0</td>\n",
       "    </tr>\n",
       "    <tr>\n",
       "      <th>1390</th>\n",
       "      <td>1181343744</td>\n",
       "      <td>0.0</td>\n",
       "      <td>-30.0</td>\n",
       "      <td>0.666667</td>\n",
       "      <td>0.666667</td>\n",
       "      <td>0.666667</td>\n",
       "      <td>911.0</td>\n",
       "      <td>1011.0</td>\n",
       "      <td>1016.0</td>\n",
       "      <td>0.0</td>\n",
       "      <td>0.0</td>\n",
       "      <td>0.0</td>\n",
       "      <td>0.0</td>\n",
       "      <td>0.0</td>\n",
       "      <td>0.0</td>\n",
       "      <td>0.0</td>\n",
       "      <td>0.0</td>\n",
       "      <td>0.0</td>\n",
       "      <td>0.0</td>\n",
       "      <td>0.0</td>\n",
       "    </tr>\n",
       "    <tr>\n",
       "      <th>1391</th>\n",
       "      <td>1181344768</td>\n",
       "      <td>0.0</td>\n",
       "      <td>-30.0</td>\n",
       "      <td>0.666667</td>\n",
       "      <td>0.666667</td>\n",
       "      <td>0.666667</td>\n",
       "      <td>900.0</td>\n",
       "      <td>1014.0</td>\n",
       "      <td>1014.0</td>\n",
       "      <td>0.0</td>\n",
       "      <td>0.0</td>\n",
       "      <td>0.0</td>\n",
       "      <td>0.0</td>\n",
       "      <td>0.0</td>\n",
       "      <td>0.0</td>\n",
       "      <td>0.0</td>\n",
       "      <td>0.0</td>\n",
       "      <td>0.0</td>\n",
       "      <td>0.0</td>\n",
       "      <td>0.0</td>\n",
       "    </tr>\n",
       "    <tr>\n",
       "      <th>1392</th>\n",
       "      <td>1181345792</td>\n",
       "      <td>0.0</td>\n",
       "      <td>-30.0</td>\n",
       "      <td>0.666667</td>\n",
       "      <td>0.666667</td>\n",
       "      <td>0.666667</td>\n",
       "      <td>895.0</td>\n",
       "      <td>1036.0</td>\n",
       "      <td>1032.0</td>\n",
       "      <td>0.0</td>\n",
       "      <td>0.0</td>\n",
       "      <td>0.0</td>\n",
       "      <td>0.0</td>\n",
       "      <td>0.0</td>\n",
       "      <td>0.0</td>\n",
       "      <td>0.0</td>\n",
       "      <td>0.0</td>\n",
       "      <td>0.0</td>\n",
       "      <td>0.0</td>\n",
       "      <td>0.0</td>\n",
       "    </tr>\n",
       "  </tbody>\n",
       "</table>\n",
       "<p>1393 rows × 20 columns</p>\n",
       "</div>"
      ],
      "text/plain": [
       "         time_ms  signal_0  signal_1  signal_2  signal_3  signal_4  signal_5  \\\n",
       "0     1165664256       0.0     -30.0  0.666667  0.666667  0.666667     916.0   \n",
       "1     1165668352       0.0     -30.0  0.666667  0.666667  0.666667     902.0   \n",
       "2     1165672448       0.0     -30.0  0.666667  0.666667  0.666667     891.0   \n",
       "3     1165676544       0.0     -30.0  0.666667  0.666667  0.666667     912.0   \n",
       "4     1165680640       0.0     -30.0  0.666667  0.666667  0.666667     890.0   \n",
       "...          ...       ...       ...       ...       ...       ...       ...   \n",
       "1388  1181341696       0.0     -30.0  0.666667  0.666667  0.666667     895.0   \n",
       "1389  1181342720       0.0     -30.0  0.666667  0.666667  0.666667     904.0   \n",
       "1390  1181343744       0.0     -30.0  0.666667  0.666667  0.666667     911.0   \n",
       "1391  1181344768       0.0     -30.0  0.666667  0.666667  0.666667     900.0   \n",
       "1392  1181345792       0.0     -30.0  0.666667  0.666667  0.666667     895.0   \n",
       "\n",
       "      signal_6  signal_7  signal_8  signal_9  signal_10  signal_11  signal_12  \\\n",
       "0       1010.0     999.0       0.0       0.0        0.0        0.0        0.0   \n",
       "1       1013.0    1047.0       0.0       0.0        0.0        0.0        0.0   \n",
       "2        995.0     997.0       0.0       0.0        0.0        0.0        0.0   \n",
       "3       1012.0    1048.0       0.0       0.0        0.0        0.0        0.0   \n",
       "4       1029.0     985.0       0.0       0.0        0.0        0.0        0.0   \n",
       "...        ...       ...       ...       ...        ...        ...        ...   \n",
       "1388     998.0    1024.0       0.0       0.0        0.0        0.0        0.0   \n",
       "1389     992.0    1025.0       0.0       0.0        0.0        0.0        0.0   \n",
       "1390    1011.0    1016.0       0.0       0.0        0.0        0.0        0.0   \n",
       "1391    1014.0    1014.0       0.0       0.0        0.0        0.0        0.0   \n",
       "1392    1036.0    1032.0       0.0       0.0        0.0        0.0        0.0   \n",
       "\n",
       "      signal_13  signal_14  signal_15  signal_16  signal_17  signal_18  \n",
       "0           0.0        0.0        0.0        0.0        0.0        0.0  \n",
       "1           0.0        0.0        0.0        0.0        0.0        0.0  \n",
       "2           0.0        0.0        0.0        0.0        0.0        0.0  \n",
       "3           0.0        0.0        0.0        0.0        0.0        0.0  \n",
       "4           0.0        0.0        0.0        0.0        0.0        0.0  \n",
       "...         ...        ...        ...        ...        ...        ...  \n",
       "1388        0.0        0.0        0.0        0.0        0.0        0.0  \n",
       "1389        0.0        0.0        0.0        0.0        0.0        0.0  \n",
       "1390        0.0        0.0        0.0        0.0        0.0        0.0  \n",
       "1391        0.0        0.0        0.0        0.0        0.0        0.0  \n",
       "1392        0.0        0.0        0.0        0.0        0.0        0.0  \n",
       "\n",
       "[1393 rows x 20 columns]"
      ]
     },
     "execution_count": 3,
     "metadata": {},
     "output_type": "execute_result"
    }
   ],
   "source": [
    "\n",
    "logfile = find_latest_log()\n",
    "\n",
    "#logfile = '../logger/logs\\loggs_230212_1637.csv'\n",
    "#logfile = '../logger/logs\\loggs_230212_1642.csv'\n",
    "#logfile = '../logger/logs\\loggs_230212_1702.csv'\n",
    "\n",
    "print(logfile)\n",
    "df = pd.read_csv(logfile)\n",
    "df\n"
   ]
  },
  {
   "cell_type": "code",
   "execution_count": 4,
   "id": "878eba36",
   "metadata": {},
   "outputs": [
    {
     "data": {
      "text/plain": [
       "<matplotlib.legend.Legend at 0x18b704ddff0>"
      ]
     },
     "execution_count": 4,
     "metadata": {},
     "output_type": "execute_result"
    },
    {
     "data": {
      "image/png": "[encoded data removed]",
      "text/plain": [
       "<Figure size 432x288 with 1 Axes>"
      ]
     },
     "metadata": {
      "needs_background": "light"
     },
     "output_type": "display_data"
    },
    {
     "data": {
      "image/png": "[encoded data removed]",
      "text/plain": [
       "<Figure size 432x288 with 1 Axes>"
      ]
     },
     "metadata": {
      "needs_background": "light"
     },
     "output_type": "display_data"
    },
    {
     "data": {
      "image/png": "[encoded data removed]",
      "text/plain": [
       "<Figure size 432x288 with 1 Axes>"
      ]
     },
     "metadata": {
      "needs_background": "light"
     },
     "output_type": "display_data"
    }
   ],
   "source": [
    "t = df['time_ms']*1/1000\n",
    "t = t - t[0]\n",
    "\n",
    "enc_ang = df['signal_0']\n",
    "elec_ang = df['signal_1']\n",
    "\n",
    "#Phase voltage\n",
    "U = df['signal_2']\n",
    "V = df['signal_3']\n",
    "W = df['signal_4']\n",
    "\n",
    "# phase current\n",
    "I_U = df['signal_5']\n",
    "I_V = df['signal_6']\n",
    "I_W = df['signal_7']\n",
    "\n",
    "t_lim = [0,max(t)]\n",
    "#t_lim = [5.5,7]\n",
    "t_lim = [9,19]\n",
    "plt.plot(t,enc_ang)\n",
    "plt.plot(t,elec_ang)\n",
    "plt.xlim(t_lim)\n",
    "\n",
    "plt.figure()\n",
    "plt.plot(t,U,label='U')\n",
    "plt.plot(t,V,label='V')\n",
    "plt.plot(t,W,label='W')\n",
    "plt.xlim(t_lim)\n",
    "plt.legend()\n",
    "\n",
    "plt.figure()\n",
    "plt.plot(t,I_U,label='I_U')\n",
    "plt.plot(t,I_V,label='I_V')\n",
    "plt.plot(t,I_W,label='I_W')\n",
    "plt.xlim(t_lim)\n",
    "plt.legend()\n",
    "\n"
   ]
  },
  {
   "cell_type": "code",
   "execution_count": 5,
   "id": "29a8c0cf",
   "metadata": {},
   "outputs": [
    {
     "name": "stdout",
     "output_type": "stream",
     "text": [
      "2048.0\n"
     ]
    },
    {
     "data": {
      "text/plain": [
       "(-1.0, 1.0)"
      ]
     },
     "execution_count": 5,
     "metadata": {},
     "output_type": "execute_result"
    },
    {
     "data": {
      "image/png": "[encoded data removed]",
      "text/plain": [
       "<Figure size 432x288 with 1 Axes>"
      ]
     },
     "metadata": {
      "needs_background": "light"
     },
     "output_type": "display_data"
    },
    {
     "data": {
      "image/png": "[encoded data removed]",
      "text/plain": [
       "<Figure size 432x288 with 1 Axes>"
      ]
     },
     "metadata": {
      "needs_background": "light"
     },
     "output_type": "display_data"
    }
   ],
   "source": [
    "\n",
    "center = 2000\n",
    "center = 2**12 / 2\n",
    "print(center)\n",
    "\n",
    "I_UR = -1*(I_V - center) *1/center\n",
    "I_VR = -1*(I_W -center) *1/center\n",
    "I_WR = -1*(I_U -center)*1/center\n",
    "\n",
    "plt.plot(t,U,label='U')\n",
    "plt.plot(t,V,label='V')\n",
    "plt.plot(t,W,label='W')\n",
    "plt.xlim(t_lim)\n",
    "plt.legend()\n",
    "\n",
    "plt.figure()\n",
    "\n",
    "plt.plot(t,I_UR,label='I_UR')\n",
    "plt.plot(t,I_VR,label='I_VR')\n",
    "plt.plot(t,I_WR,label='I_WR')\n",
    "plt.xlim(t_lim)\n",
    "plt.legend()\n",
    "plt.ylim([-1,1])\n"
   ]
  },
  {
   "cell_type": "code",
   "execution_count": 6,
   "id": "9d2c3dc0",
   "metadata": {},
   "outputs": [
    {
     "data": {
      "text/plain": [
       "Text(0.5, 1.0, 'Current')"
      ]
     },
     "execution_count": 6,
     "metadata": {},
     "output_type": "execute_result"
    },
    {
     "data": {
      "image/png": "[encoded data removed]",
      "text/plain": [
       "<Figure size 432x288 with 1 Axes>"
      ]
     },
     "metadata": {
      "needs_background": "light"
     },
     "output_type": "display_data"
    },
    {
     "data": {
      "image/png": "[encoded data removed]",
      "text/plain": [
       "<Figure size 432x288 with 1 Axes>"
      ]
     },
     "metadata": {
      "needs_background": "light"
     },
     "output_type": "display_data"
    }
   ],
   "source": [
    "\n",
    "\n",
    "def clarque_inv(elec, u,v,w):\n",
    "\n",
    "    alfa = []\n",
    "    beta = []\n",
    "\n",
    "    rad120 = np.deg2rad(120)\n",
    "\n",
    "    for i in range(len(elec)):\n",
    "\n",
    "        ei = elec[i]*np.pi/180\n",
    "\n",
    "        Ue = np.array([np.cos(ei), np.sin(ei)])\n",
    "        Ve = np.array([np.cos(ei + rad120), np.sin(ei + rad120)])\n",
    "        We = np.array([np.cos(ei + 2*rad120), np.sin(ei + 2*rad120)])\n",
    "\n",
    "        U = Ue*u[i] + Ve*v[i] + We*w[i]\n",
    "\n",
    "        alfa.append(U[0])\n",
    "        beta.append(U[1])\n",
    "\n",
    "    return alfa,beta\n",
    "\n",
    "alf,bet = clarque_inv(elec_ang,U,V,W)\n",
    "\n",
    "plt.plot(t,alf,label='U_d')\n",
    "plt.plot(t,bet,label='U_q')\n",
    "plt.legend()\n",
    "plt.title('Voltage')\n",
    "\n",
    "I_alf,I_bet = clarque_inv(elec_ang,I_UR,I_VR,I_WR)\n",
    "\n",
    "plt.figure()\n",
    "plt.plot(t,I_alf,label='I_d')\n",
    "plt.plot(t,I_bet,label='I_Q')\n",
    "plt.legend()\n",
    "plt.title('Current')"
   ]
  }
 ],
 "metadata": {
  "kernelspec": {
   "display_name": "Python 3",
   "language": "python",
   "name": "python3"
  },
  "language_info": {
   "codemirror_mode": {
    "name": "ipython",
    "version": 3
   },
   "file_extension": ".py",
   "mimetype": "text/x-python",
   "name": "python",
   "nbconvert_exporter": "python",
   "pygments_lexer": "ipython3",
   "version": "3.10.4"
  },
  "vscode": {
   "interpreter": {
    "hash": "3fc63de107a3995f66d33859f380f73bd26ac40da4b187ce627a4472b1acbfe0"
   }
  }
 },
 "nbformat": 4,
 "nbformat_minor": 5
}
