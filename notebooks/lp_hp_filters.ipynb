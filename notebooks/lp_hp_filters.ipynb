{
 "cells": [
  {
   "cell_type": "code",
   "execution_count": 6,
   "metadata": {},
   "outputs": [],
   "source": [
    "import control as ctrl \n",
    "import matplotlib.pyplot as plt "
   ]
  },
  {
   "attachments": {},
   "cell_type": "markdown",
   "metadata": {},
   "source": [
    "LP Filter\n",
    "$$\n",
    "\\frac{1}{s/\\omega_c + 1}\n",
    "$$\n",
    "\n",
    "HP Filter\n",
    "$$\n",
    "\\frac{s}{s + \\omega_c}\n",
    "$$\n",
    "\n",
    "Bilinear transform\n",
    "$$\n",
    "s = \\frac{2}{T}\\frac{(z-1)}{(z+1)} \n",
    "$$"
   ]
  },
  {
   "cell_type": "code",
   "execution_count": 7,
   "metadata": {},
   "outputs": [
    {
     "data": {
      "text/latex": [
       "$$\\frac{10}{s + 10}$$"
      ],
      "text/plain": [
       "TransferFunction(array([10]), array([ 1, 10]))"
      ]
     },
     "execution_count": 7,
     "metadata": {},
     "output_type": "execute_result"
    }
   ],
   "source": [
    "s = ctrl.tf('s')\n",
    "\n",
    "wc = 10\n",
    "T = 0.01\n",
    "\n",
    "LP = 1/(s/wc + 1)\n",
    "LP\n"
   ]
  },
  {
   "cell_type": "code",
   "execution_count": 8,
   "metadata": {},
   "outputs": [
    {
     "data": {
      "text/latex": [
       "$$\\frac{0.04762 z + 0.04762}{z - 0.9048}\\quad dt = 0.01$$"
      ],
      "text/plain": [
       "TransferFunction(array([0.04761905, 0.04761905]), array([ 1.       , -0.9047619]), 0.01)"
      ]
     },
     "execution_count": 8,
     "metadata": {},
     "output_type": "execute_result"
    }
   ],
   "source": [
    "LP.sample(T,'bilinear')"
   ]
  },
  {
   "attachments": {},
   "cell_type": "markdown",
   "metadata": {},
   "source": [
    "# LP Filter\n",
    "$$\n",
    "\\frac{(z+1)b}{z + a}\n",
    "$$\n",
    "\n",
    "$$\n",
    "b = \\frac{T \\omega_c}{2 + T \\omega_c}\n",
    "$$\n",
    "\n",
    "$$\n",
    "a = \\dfrac{T\\omega_c - 2}{T\\omega_c + 2}\n",
    "$$\n"
   ]
  },
  {
   "cell_type": "code",
   "execution_count": 13,
   "metadata": {},
   "outputs": [
    {
     "data": {
      "text/latex": [
       "$$\\frac{0.04762 z + 0.04762}{z - 0.9048}\\quad dt = 0.01$$"
      ],
      "text/plain": [
       "TransferFunction(array([0.04761905, 0.04761905]), array([ 1.       , -0.9047619]), 0.01)"
      ]
     },
     "execution_count": 13,
     "metadata": {},
     "output_type": "execute_result"
    }
   ],
   "source": [
    "\n",
    "z = ctrl.tf([1,0],[0,1],T)\n",
    "\n",
    "b = T*wc/(2 + T*wc)\n",
    "a = (T*wc - 2)/(T*wc + 2)\n",
    "\n",
    "LPd = (z+1)*b/(z + a)\n",
    "LPd\n"
   ]
  },
  {
   "attachments": {},
   "cell_type": "markdown",
   "metadata": {},
   "source": [
    "# HP filter\n",
    "$$\n",
    "\\frac{(z-1)b}{z + a}\n",
    "$$\n",
    "\n",
    "$$\n",
    "b = \\frac{2}{2 + T \\omega_c}\n",
    "$$\n",
    "\n",
    "$$\n",
    "a = \\dfrac{2- T\\omega_c}{2 + T\\omega_c}\n",
    "$$\n"
   ]
  },
  {
   "cell_type": "code",
   "execution_count": 14,
   "metadata": {},
   "outputs": [
    {
     "data": {
      "text/latex": [
       "$$\\frac{s}{s + 10}$$"
      ],
      "text/plain": [
       "TransferFunction(array([1, 0]), array([ 1, 10]))"
      ]
     },
     "execution_count": 14,
     "metadata": {},
     "output_type": "execute_result"
    }
   ],
   "source": [
    "HP = s/(s + wc)\n",
    "HP"
   ]
  },
  {
   "cell_type": "code",
   "execution_count": 21,
   "metadata": {},
   "outputs": [
    {
     "data": {
      "text/latex": [
       "$$\\frac{0.9524 z - 0.9524}{z - 0.9048}\\quad dt = 0.01$$"
      ],
      "text/plain": [
       "TransferFunction(array([ 0.95238095, -0.95238095]), array([ 1.       , -0.9047619]), 0.01)"
      ]
     },
     "execution_count": 21,
     "metadata": {},
     "output_type": "execute_result"
    }
   ],
   "source": [
    "HP.sample(T,'bilinear')"
   ]
  },
  {
   "cell_type": "code",
   "execution_count": 18,
   "metadata": {},
   "outputs": [
    {
     "data": {
      "text/latex": [
       "$$\\frac{0.9524 z - 0.9524}{z + 0.9048}\\quad dt = 0.01$$"
      ],
      "text/plain": [
       "TransferFunction(array([ 0.95238095, -0.95238095]), array([1.       , 0.9047619]), 0.01)"
      ]
     },
     "execution_count": 18,
     "metadata": {},
     "output_type": "execute_result"
    }
   ],
   "source": [
    "b2 = 2/(2+T*wc)\n",
    "a2 = (2-T*wc)/(2+T*wc)\n",
    "\n",
    "Hd = (z -1)*b2/(z + a2)\n",
    "Hd"
   ]
  }
 ],
 "metadata": {
  "kernelspec": {
   "display_name": "Python 3",
   "language": "python",
   "name": "python3"
  },
  "language_info": {
   "codemirror_mode": {
    "name": "ipython",
    "version": 3
   },
   "file_extension": ".py",
   "mimetype": "text/x-python",
   "name": "python",
   "nbconvert_exporter": "python",
   "pygments_lexer": "ipython3",
   "version": "3.10.5"
  },
  "orig_nbformat": 4
 },
 "nbformat": 4,
 "nbformat_minor": 2
}
