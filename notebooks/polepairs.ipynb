{
 "cells": [
  {
   "cell_type": "code",
   "execution_count": 2,
   "id": "bf40ffd9",
   "metadata": {},
   "outputs": [],
   "source": [
    "import matplotlib.pyplot as plt\n",
    "import pandas as pd\n",
    "import numpy as np\n",
    "import os"
   ]
  },
  {
   "cell_type": "code",
   "execution_count": 3,
   "id": "08341c6f",
   "metadata": {},
   "outputs": [],
   "source": [
    "def find_latest_log():\n",
    "    folder = '../logger/logs'\n",
    "    logs = os.listdir(folder)\n",
    "    return folder + os.sep + logs[-1]\n"
   ]
  },
  {
   "cell_type": "code",
   "execution_count": 4,
   "id": "4815b65e",
   "metadata": {
    "scrolled": true
   },
   "outputs": [
    {
     "name": "stdout",
     "output_type": "stream",
     "text": [
      "../logger/logs\\log_230326_1420.csv\n"
     ]
    },
    {
     "data": {
      "text/html": [
       "<div>\n",
       "<style scoped>\n",
       "    .dataframe tbody tr th:only-of-type {\n",
       "        vertical-align: middle;\n",
       "    }\n",
       "\n",
       "    .dataframe tbody tr th {\n",
       "        vertical-align: top;\n",
       "    }\n",
       "\n",
       "    .dataframe thead th {\n",
       "        text-align: right;\n",
       "    }\n",
       "</style>\n",
       "<table border=\"1\" class=\"dataframe\">\n",
       "  <thead>\n",
       "    <tr style=\"text-align: right;\">\n",
       "      <th></th>\n",
       "      <th>time_ms</th>\n",
       "      <th>signal_0</th>\n",
       "      <th>signal_1</th>\n",
       "      <th>signal_2</th>\n",
       "      <th>signal_3</th>\n",
       "      <th>signal_4</th>\n",
       "      <th>signal_5</th>\n",
       "      <th>signal_6</th>\n",
       "      <th>signal_7</th>\n",
       "      <th>signal_8</th>\n",
       "      <th>signal_9</th>\n",
       "    </tr>\n",
       "  </thead>\n",
       "  <tbody>\n",
       "    <tr>\n",
       "      <th>0</th>\n",
       "      <td>5150</td>\n",
       "      <td>0.0</td>\n",
       "      <td>0.0</td>\n",
       "      <td>0.0</td>\n",
       "      <td>0.0</td>\n",
       "      <td>0.0</td>\n",
       "      <td>1017.0</td>\n",
       "      <td>995.0</td>\n",
       "      <td>1033.0</td>\n",
       "      <td>0.0</td>\n",
       "      <td>0.0</td>\n",
       "    </tr>\n",
       "    <tr>\n",
       "      <th>1</th>\n",
       "      <td>5154</td>\n",
       "      <td>0.0</td>\n",
       "      <td>0.0</td>\n",
       "      <td>0.0</td>\n",
       "      <td>0.0</td>\n",
       "      <td>0.0</td>\n",
       "      <td>1026.0</td>\n",
       "      <td>1027.0</td>\n",
       "      <td>998.0</td>\n",
       "      <td>0.0</td>\n",
       "      <td>0.0</td>\n",
       "    </tr>\n",
       "    <tr>\n",
       "      <th>2</th>\n",
       "      <td>5158</td>\n",
       "      <td>0.0</td>\n",
       "      <td>0.0</td>\n",
       "      <td>0.0</td>\n",
       "      <td>0.0</td>\n",
       "      <td>0.0</td>\n",
       "      <td>1024.0</td>\n",
       "      <td>1029.0</td>\n",
       "      <td>1029.0</td>\n",
       "      <td>0.0</td>\n",
       "      <td>0.0</td>\n",
       "    </tr>\n",
       "    <tr>\n",
       "      <th>3</th>\n",
       "      <td>5162</td>\n",
       "      <td>0.0</td>\n",
       "      <td>0.0</td>\n",
       "      <td>0.0</td>\n",
       "      <td>0.0</td>\n",
       "      <td>0.0</td>\n",
       "      <td>1017.0</td>\n",
       "      <td>1002.0</td>\n",
       "      <td>1028.0</td>\n",
       "      <td>0.0</td>\n",
       "      <td>0.0</td>\n",
       "    </tr>\n",
       "    <tr>\n",
       "      <th>4</th>\n",
       "      <td>5166</td>\n",
       "      <td>0.0</td>\n",
       "      <td>0.0</td>\n",
       "      <td>0.0</td>\n",
       "      <td>0.0</td>\n",
       "      <td>0.0</td>\n",
       "      <td>1012.0</td>\n",
       "      <td>1012.0</td>\n",
       "      <td>1010.0</td>\n",
       "      <td>0.0</td>\n",
       "      <td>0.0</td>\n",
       "    </tr>\n",
       "    <tr>\n",
       "      <th>...</th>\n",
       "      <td>...</td>\n",
       "      <td>...</td>\n",
       "      <td>...</td>\n",
       "      <td>...</td>\n",
       "      <td>...</td>\n",
       "      <td>...</td>\n",
       "      <td>...</td>\n",
       "      <td>...</td>\n",
       "      <td>...</td>\n",
       "      <td>...</td>\n",
       "      <td>...</td>\n",
       "    </tr>\n",
       "    <tr>\n",
       "      <th>1587</th>\n",
       "      <td>11526</td>\n",
       "      <td>0.0</td>\n",
       "      <td>0.0</td>\n",
       "      <td>0.0</td>\n",
       "      <td>0.0</td>\n",
       "      <td>0.0</td>\n",
       "      <td>1011.0</td>\n",
       "      <td>1004.0</td>\n",
       "      <td>1005.0</td>\n",
       "      <td>0.0</td>\n",
       "      <td>0.0</td>\n",
       "    </tr>\n",
       "    <tr>\n",
       "      <th>1588</th>\n",
       "      <td>11530</td>\n",
       "      <td>0.0</td>\n",
       "      <td>0.0</td>\n",
       "      <td>0.0</td>\n",
       "      <td>0.0</td>\n",
       "      <td>0.0</td>\n",
       "      <td>1031.0</td>\n",
       "      <td>1007.0</td>\n",
       "      <td>1019.0</td>\n",
       "      <td>0.0</td>\n",
       "      <td>0.0</td>\n",
       "    </tr>\n",
       "    <tr>\n",
       "      <th>1589</th>\n",
       "      <td>11534</td>\n",
       "      <td>0.0</td>\n",
       "      <td>0.0</td>\n",
       "      <td>0.0</td>\n",
       "      <td>0.0</td>\n",
       "      <td>0.0</td>\n",
       "      <td>1027.0</td>\n",
       "      <td>1003.0</td>\n",
       "      <td>1002.0</td>\n",
       "      <td>0.0</td>\n",
       "      <td>0.0</td>\n",
       "    </tr>\n",
       "    <tr>\n",
       "      <th>1590</th>\n",
       "      <td>11538</td>\n",
       "      <td>0.0</td>\n",
       "      <td>0.0</td>\n",
       "      <td>0.0</td>\n",
       "      <td>0.0</td>\n",
       "      <td>0.0</td>\n",
       "      <td>1023.0</td>\n",
       "      <td>1014.0</td>\n",
       "      <td>1035.0</td>\n",
       "      <td>0.0</td>\n",
       "      <td>0.0</td>\n",
       "    </tr>\n",
       "    <tr>\n",
       "      <th>1591</th>\n",
       "      <td>11542</td>\n",
       "      <td>0.0</td>\n",
       "      <td>0.0</td>\n",
       "      <td>0.0</td>\n",
       "      <td>0.0</td>\n",
       "      <td>0.0</td>\n",
       "      <td>1007.0</td>\n",
       "      <td>1012.0</td>\n",
       "      <td>1013.0</td>\n",
       "      <td>0.0</td>\n",
       "      <td>0.0</td>\n",
       "    </tr>\n",
       "  </tbody>\n",
       "</table>\n",
       "<p>1592 rows × 11 columns</p>\n",
       "</div>"
      ],
      "text/plain": [
       "      time_ms  signal_0  signal_1  signal_2  signal_3  signal_4  signal_5  \\\n",
       "0        5150       0.0       0.0       0.0       0.0       0.0    1017.0   \n",
       "1        5154       0.0       0.0       0.0       0.0       0.0    1026.0   \n",
       "2        5158       0.0       0.0       0.0       0.0       0.0    1024.0   \n",
       "3        5162       0.0       0.0       0.0       0.0       0.0    1017.0   \n",
       "4        5166       0.0       0.0       0.0       0.0       0.0    1012.0   \n",
       "...       ...       ...       ...       ...       ...       ...       ...   \n",
       "1587    11526       0.0       0.0       0.0       0.0       0.0    1011.0   \n",
       "1588    11530       0.0       0.0       0.0       0.0       0.0    1031.0   \n",
       "1589    11534       0.0       0.0       0.0       0.0       0.0    1027.0   \n",
       "1590    11538       0.0       0.0       0.0       0.0       0.0    1023.0   \n",
       "1591    11542       0.0       0.0       0.0       0.0       0.0    1007.0   \n",
       "\n",
       "      signal_6  signal_7  signal_8  signal_9  \n",
       "0        995.0    1033.0       0.0       0.0  \n",
       "1       1027.0     998.0       0.0       0.0  \n",
       "2       1029.0    1029.0       0.0       0.0  \n",
       "3       1002.0    1028.0       0.0       0.0  \n",
       "4       1012.0    1010.0       0.0       0.0  \n",
       "...        ...       ...       ...       ...  \n",
       "1587    1004.0    1005.0       0.0       0.0  \n",
       "1588    1007.0    1019.0       0.0       0.0  \n",
       "1589    1003.0    1002.0       0.0       0.0  \n",
       "1590    1014.0    1035.0       0.0       0.0  \n",
       "1591    1012.0    1013.0       0.0       0.0  \n",
       "\n",
       "[1592 rows x 11 columns]"
      ]
     },
     "execution_count": 4,
     "metadata": {},
     "output_type": "execute_result"
    }
   ],
   "source": [
    "\n",
    "logfile = find_latest_log()\n",
    "print(logfile)\n",
    "df = pd.read_csv(logfile)\n",
    "df\n"
   ]
  },
  {
   "cell_type": "code",
   "execution_count": 5,
   "id": "b5a59b57",
   "metadata": {},
   "outputs": [
    {
     "data": {
      "text/plain": [
       "[<matplotlib.lines.Line2D at 0x218b5a66d40>]"
      ]
     },
     "execution_count": 5,
     "metadata": {},
     "output_type": "execute_result"
    },
    {
     "data": {
      "image/png": "[encoded data removed]",
      "text/plain": [
       "<Figure size 432x288 with 1 Axes>"
      ]
     },
     "metadata": {
      "needs_background": "light"
     },
     "output_type": "display_data"
    }
   ],
   "source": [
    "t = df['time_ms']*1/1000\n",
    "t = t - t[0]\n",
    "plt.plot(t,'.-')"
   ]
  },
  {
   "cell_type": "code",
   "execution_count": 14,
   "id": "878eba36",
   "metadata": {},
   "outputs": [
    {
     "data": {
      "text/plain": [
       "<matplotlib.legend.Legend at 0x212576b3eb0>"
      ]
     },
     "execution_count": 14,
     "metadata": {},
     "output_type": "execute_result"
    },
    {
     "data": {
      "image/png": "[encoded data removed]",
      "text/plain": [
       "<Figure size 432x288 with 1 Axes>"
      ]
     },
     "metadata": {
      "needs_background": "light"
     },
     "output_type": "display_data"
    }
   ],
   "source": [
    "t = df['time_ms']*1/1000\n",
    "t = t - t[0]\n",
    "\n",
    "theta = df['signal_0']\n",
    "#theta = np.mod(theta,360.0)\n",
    "U = df['signal_1']\n",
    "V = df['signal_2']\n",
    "W = df['signal_3']\n",
    "\n",
    "gen_theta =  df['signal_1']\n",
    "\n",
    "xlim = (5,20.0)\n",
    "\n",
    "plt.plot(t,theta,label='Encoder')\n",
    "plt.plot(t,gen_theta,label='UVW Theta')\n",
    "\n",
    "plt.xlim(xlim)\n",
    "plt.legend()\n",
    "#plt.figure()\n",
    "#plt.plot(t,U)\n",
    "#plt.plot(t,V)\n",
    "#plt.plot(t,W)\n",
    "#plt.xlim(xlim)\n",
    "\n"
   ]
  },
  {
   "cell_type": "code",
   "execution_count": null,
   "id": "4228f192",
   "metadata": {},
   "outputs": [],
   "source": []
  },
  {
   "cell_type": "code",
   "execution_count": 15,
   "id": "d7513234",
   "metadata": {},
   "outputs": [
    {
     "name": "stdout",
     "output_type": "stream",
     "text": [
      "6.866280470990302\n"
     ]
    },
    {
     "data": {
      "image/png": "[encoded data removed]",
      "text/plain": [
       "<Figure size 432x288 with 1 Axes>"
      ]
     },
     "metadata": {
      "needs_background": "light"
     },
     "output_type": "display_data"
    }
   ],
   "source": [
    "t = np.array(t)\n",
    "indx = np.bitwise_and(t > xlim[0],t < xlim[1]) \n",
    "\n",
    "elec_ang = np.array(gen_theta)[indx]\n",
    "enc_ang = np.array(theta)[indx]\n",
    "\n",
    "plt.plot(elec_ang)\n",
    "plt.plot(enc_ang)\n",
    "\n",
    "enc_delta = np.max(enc_ang) - np.min(enc_ang)\n",
    "elec_delta = np.max(elec_ang) - np.min(elec_ang)\n",
    "\n",
    "print(elec_delta/enc_delta)\n"
   ]
  },
  {
   "cell_type": "code",
   "execution_count": null,
   "id": "29a8c0cf",
   "metadata": {},
   "outputs": [],
   "source": []
  }
 ],
 "metadata": {
  "kernelspec": {
   "display_name": "Python 3 (ipykernel)",
   "language": "python",
   "name": "python3"
  },
  "language_info": {
   "codemirror_mode": {
    "name": "ipython",
    "version": 3
   },
   "file_extension": ".py",
   "mimetype": "text/x-python",
   "name": "python",
   "nbconvert_exporter": "python",
   "pygments_lexer": "ipython3",
   "version": "3.10.5"
  },
  "vscode": {
   "interpreter": {
    "hash": "3fc63de107a3995f66d33859f380f73bd26ac40da4b187ce627a4472b1acbfe0"
   }
  }
 },
 "nbformat": 4,
 "nbformat_minor": 5
}
